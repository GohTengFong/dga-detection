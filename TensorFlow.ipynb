{
  "nbformat": 4,
  "nbformat_minor": 0,
  "metadata": {
    "colab": {
      "provenance": []
    },
    "kernelspec": {
      "name": "python3",
      "display_name": "Python 3"
    },
    "language_info": {
      "name": "python"
    }
  },
  "cells": [
    {
      "cell_type": "code",
      "source": [
        "from google.colab import drive\n",
        "drive.mount(\"/content/drive\")\n",
        "\n",
        "from google.colab import files\n",
        "uploaded = files.upload()"
      ],
      "metadata": {
        "colab": {
          "base_uri": "https://localhost:8080/",
          "height": 92
        },
        "id": "rHwUwMWb9sNE",
        "outputId": "3392b536-2551-46b8-ab66-48303e2b7574"
      },
      "execution_count": 1,
      "outputs": [
        {
          "output_type": "stream",
          "name": "stdout",
          "text": [
            "Mounted at /content/drive\n"
          ]
        },
        {
          "output_type": "display_data",
          "data": {
            "text/plain": [
              "<IPython.core.display.HTML object>"
            ],
            "text/html": [
              "\n",
              "     <input type=\"file\" id=\"files-784ac2ff-8a49-41f0-afb3-07cb90a335fc\" name=\"files[]\" multiple disabled\n",
              "        style=\"border:none\" />\n",
              "     <output id=\"result-784ac2ff-8a49-41f0-afb3-07cb90a335fc\">\n",
              "      Upload widget is only available when the cell has been executed in the\n",
              "      current browser session. Please rerun this cell to enable.\n",
              "      </output>\n",
              "      <script>// Copyright 2017 Google LLC\n",
              "//\n",
              "// Licensed under the Apache License, Version 2.0 (the \"License\");\n",
              "// you may not use this file except in compliance with the License.\n",
              "// You may obtain a copy of the License at\n",
              "//\n",
              "//      http://www.apache.org/licenses/LICENSE-2.0\n",
              "//\n",
              "// Unless required by applicable law or agreed to in writing, software\n",
              "// distributed under the License is distributed on an \"AS IS\" BASIS,\n",
              "// WITHOUT WARRANTIES OR CONDITIONS OF ANY KIND, either express or implied.\n",
              "// See the License for the specific language governing permissions and\n",
              "// limitations under the License.\n",
              "\n",
              "/**\n",
              " * @fileoverview Helpers for google.colab Python module.\n",
              " */\n",
              "(function(scope) {\n",
              "function span(text, styleAttributes = {}) {\n",
              "  const element = document.createElement('span');\n",
              "  element.textContent = text;\n",
              "  for (const key of Object.keys(styleAttributes)) {\n",
              "    element.style[key] = styleAttributes[key];\n",
              "  }\n",
              "  return element;\n",
              "}\n",
              "\n",
              "// Max number of bytes which will be uploaded at a time.\n",
              "const MAX_PAYLOAD_SIZE = 100 * 1024;\n",
              "\n",
              "function _uploadFiles(inputId, outputId) {\n",
              "  const steps = uploadFilesStep(inputId, outputId);\n",
              "  const outputElement = document.getElementById(outputId);\n",
              "  // Cache steps on the outputElement to make it available for the next call\n",
              "  // to uploadFilesContinue from Python.\n",
              "  outputElement.steps = steps;\n",
              "\n",
              "  return _uploadFilesContinue(outputId);\n",
              "}\n",
              "\n",
              "// This is roughly an async generator (not supported in the browser yet),\n",
              "// where there are multiple asynchronous steps and the Python side is going\n",
              "// to poll for completion of each step.\n",
              "// This uses a Promise to block the python side on completion of each step,\n",
              "// then passes the result of the previous step as the input to the next step.\n",
              "function _uploadFilesContinue(outputId) {\n",
              "  const outputElement = document.getElementById(outputId);\n",
              "  const steps = outputElement.steps;\n",
              "\n",
              "  const next = steps.next(outputElement.lastPromiseValue);\n",
              "  return Promise.resolve(next.value.promise).then((value) => {\n",
              "    // Cache the last promise value to make it available to the next\n",
              "    // step of the generator.\n",
              "    outputElement.lastPromiseValue = value;\n",
              "    return next.value.response;\n",
              "  });\n",
              "}\n",
              "\n",
              "/**\n",
              " * Generator function which is called between each async step of the upload\n",
              " * process.\n",
              " * @param {string} inputId Element ID of the input file picker element.\n",
              " * @param {string} outputId Element ID of the output display.\n",
              " * @return {!Iterable<!Object>} Iterable of next steps.\n",
              " */\n",
              "function* uploadFilesStep(inputId, outputId) {\n",
              "  const inputElement = document.getElementById(inputId);\n",
              "  inputElement.disabled = false;\n",
              "\n",
              "  const outputElement = document.getElementById(outputId);\n",
              "  outputElement.innerHTML = '';\n",
              "\n",
              "  const pickedPromise = new Promise((resolve) => {\n",
              "    inputElement.addEventListener('change', (e) => {\n",
              "      resolve(e.target.files);\n",
              "    });\n",
              "  });\n",
              "\n",
              "  const cancel = document.createElement('button');\n",
              "  inputElement.parentElement.appendChild(cancel);\n",
              "  cancel.textContent = 'Cancel upload';\n",
              "  const cancelPromise = new Promise((resolve) => {\n",
              "    cancel.onclick = () => {\n",
              "      resolve(null);\n",
              "    };\n",
              "  });\n",
              "\n",
              "  // Wait for the user to pick the files.\n",
              "  const files = yield {\n",
              "    promise: Promise.race([pickedPromise, cancelPromise]),\n",
              "    response: {\n",
              "      action: 'starting',\n",
              "    }\n",
              "  };\n",
              "\n",
              "  cancel.remove();\n",
              "\n",
              "  // Disable the input element since further picks are not allowed.\n",
              "  inputElement.disabled = true;\n",
              "\n",
              "  if (!files) {\n",
              "    return {\n",
              "      response: {\n",
              "        action: 'complete',\n",
              "      }\n",
              "    };\n",
              "  }\n",
              "\n",
              "  for (const file of files) {\n",
              "    const li = document.createElement('li');\n",
              "    li.append(span(file.name, {fontWeight: 'bold'}));\n",
              "    li.append(span(\n",
              "        `(${file.type || 'n/a'}) - ${file.size} bytes, ` +\n",
              "        `last modified: ${\n",
              "            file.lastModifiedDate ? file.lastModifiedDate.toLocaleDateString() :\n",
              "                                    'n/a'} - `));\n",
              "    const percent = span('0% done');\n",
              "    li.appendChild(percent);\n",
              "\n",
              "    outputElement.appendChild(li);\n",
              "\n",
              "    const fileDataPromise = new Promise((resolve) => {\n",
              "      const reader = new FileReader();\n",
              "      reader.onload = (e) => {\n",
              "        resolve(e.target.result);\n",
              "      };\n",
              "      reader.readAsArrayBuffer(file);\n",
              "    });\n",
              "    // Wait for the data to be ready.\n",
              "    let fileData = yield {\n",
              "      promise: fileDataPromise,\n",
              "      response: {\n",
              "        action: 'continue',\n",
              "      }\n",
              "    };\n",
              "\n",
              "    // Use a chunked sending to avoid message size limits. See b/62115660.\n",
              "    let position = 0;\n",
              "    do {\n",
              "      const length = Math.min(fileData.byteLength - position, MAX_PAYLOAD_SIZE);\n",
              "      const chunk = new Uint8Array(fileData, position, length);\n",
              "      position += length;\n",
              "\n",
              "      const base64 = btoa(String.fromCharCode.apply(null, chunk));\n",
              "      yield {\n",
              "        response: {\n",
              "          action: 'append',\n",
              "          file: file.name,\n",
              "          data: base64,\n",
              "        },\n",
              "      };\n",
              "\n",
              "      let percentDone = fileData.byteLength === 0 ?\n",
              "          100 :\n",
              "          Math.round((position / fileData.byteLength) * 100);\n",
              "      percent.textContent = `${percentDone}% done`;\n",
              "\n",
              "    } while (position < fileData.byteLength);\n",
              "  }\n",
              "\n",
              "  // All done.\n",
              "  yield {\n",
              "    response: {\n",
              "      action: 'complete',\n",
              "    }\n",
              "  };\n",
              "}\n",
              "\n",
              "scope.google = scope.google || {};\n",
              "scope.google.colab = scope.google.colab || {};\n",
              "scope.google.colab._files = {\n",
              "  _uploadFiles,\n",
              "  _uploadFilesContinue,\n",
              "};\n",
              "})(self);\n",
              "</script> "
            ]
          },
          "metadata": {}
        },
        {
          "output_type": "stream",
          "name": "stdout",
          "text": [
            "Saving dga_data_full.csv to dga_data_full.csv\n"
          ]
        }
      ]
    },
    {
      "cell_type": "code",
      "source": [
        "import math\n",
        "from collections import Counter\n",
        "\n",
        "import numpy as np\n",
        "import pandas as pd\n",
        "\n",
        "import matplotlib.pyplot as plt\n",
        "import seaborn as sns\n",
        "\n",
        "from sklearn.feature_extraction.text import CountVectorizer\n",
        "from sklearn.model_selection import train_test_split\n",
        "from sklearn.metrics import classification_report\n",
        "from sklearn.metrics import confusion_matrix\n",
        "\n",
        "import joblib"
      ],
      "metadata": {
        "id": "62jZqiiDoUNE"
      },
      "execution_count": 2,
      "outputs": []
    },
    {
      "cell_type": "code",
      "source": [
        "def shannon_entropy(domain):\n",
        "  freq_dict = Counter(domain)\n",
        "\n",
        "  entropy = 0\n",
        "  for c, f in freq_dict.items():\n",
        "    p = f / len(domain)\n",
        "    entropy += p * math.log2(p)\n",
        "\n",
        "  return -entropy\n",
        "\n",
        "def vowel_to_consonant_ratio(domain):\n",
        "  vowels = 0\n",
        "  consonants = 0\n",
        "\n",
        "  for c in domain:\n",
        "    if c in {'a', 'e', 'i', 'o', 'u'}:\n",
        "      vowels += 1\n",
        "    else:\n",
        "      consonants += 1\n",
        "\n",
        "  return vowels / consonants\n",
        "\n",
        "def max_consecutive_consonant(domain):\n",
        "  mx = 0\n",
        "\n",
        "  i = 0\n",
        "  while i < len(domain):\n",
        "    while i < len(domain) and domain[i] in {'a', 'e', 'i', 'o', 'u'}:\n",
        "      i += 1\n",
        "\n",
        "    j = i + 1\n",
        "    while j < len(domain) and domain[j] not in {'a', 'e', 'i', 'o', 'u'}:\n",
        "      j += 1\n",
        "\n",
        "    mx = max(mx, j - i)\n",
        "    i = j\n",
        "\n",
        "  return mx\n",
        "\n",
        "def unique_characters(domain):\n",
        "  st = set()\n",
        "\n",
        "  for c in domain:\n",
        "    st.add(c)\n",
        "\n",
        "  return len(st)\n",
        "\n",
        "tokens = {}\n",
        "for i in range(1, 1 + 10):\n",
        "  tokens[chr(i - 1 + ord('0'))] = i;\n",
        "\n",
        "for i in range(11, 11 + 26, 1):\n",
        "  tokens[chr(i - 11 + ord('a'))] = i\n",
        "\n",
        "tokens[\"PAD\"] = 0\n",
        "tokens['.'] = 37\n",
        "\n",
        "def tokenize(domain):\n",
        "  encoded = []\n",
        "\n",
        "  for c in domain:\n",
        "    if c in tokens:\n",
        "      encoded.append(tokens[c])\n",
        "\n",
        "  return encoded\n",
        "\n",
        "def clean_domain(domain):\n",
        "  return \"\".join(c for c in domain.lower() if c.isalnum())\n",
        "\n",
        "vectorizer = joblib.load(\"/content/drive/My Drive/dga_models/vectorizer.joblib\")\n",
        "log10_count = np.load(\"/content/drive/My Drive/dga_models/log10_count.npy\")"
      ],
      "metadata": {
        "id": "SxD3iCIL9JCn"
      },
      "execution_count": 3,
      "outputs": []
    },
    {
      "cell_type": "code",
      "source": [
        "df = pd.read_csv(\"dga_data_full.csv\")\n",
        "\n",
        "df = df.drop(columns=[\"domain\", \"subclass\"])\n",
        "df = df.rename(columns={\"host\": \"domain\"})\n",
        "df[\"domain\"] = df[\"domain\"].str.replace(r\"\\s+\", \"\", regex=True)\n",
        "df[\"isDGA\"] = (df[\"isDGA\"] == \"dga\").astype(int)\n",
        "df[\"domain_length\"] = df[\"domain\"].str.len()\n",
        "df[\"shannon_entropy\"] = df[\"domain\"].apply(shannon_entropy)\n",
        "df[\"vc_ratio\"] = df[\"domain\"].apply(vowel_to_consonant_ratio)\n",
        "df[\"ngram_score\"]= log10_count * vectorizer.transform(df[\"domain\"]).T\n",
        "df[\"mcc\"] = df[\"domain\"].apply(max_consecutive_consonant)\n",
        "df[\"unique_chars\"] = df[\"domain\"].apply(unique_characters)\n",
        "df[\"tokenize\"] = df[\"domain\"].apply(tokenize)\n",
        "\n",
        "print(df)"
      ],
      "metadata": {
        "colab": {
          "base_uri": "https://localhost:8080/"
        },
        "id": "OVlPmPAY9VTG",
        "outputId": "a8defc2d-1374-4c58-85c8-ca3b34a3f628"
      },
      "execution_count": 4,
      "outputs": [
        {
          "output_type": "stream",
          "name": "stdout",
          "text": [
            "        isDGA                          domain  domain_length  shannon_entropy  \\\n",
            "0           1  6xzxsw3sokvg1tc752y1a6p0af.com             30         4.440224   \n",
            "1           1               glbtlxwwhbnpxs.ru             17         3.616875   \n",
            "2           1               xxmamopyipbfpk.ru             17         3.572469   \n",
            "3           1   zfd5szpi18i85wj9uy13l69rg.net             29         4.444188   \n",
            "4           1                 jpqftymiuver.ru             15         3.640224   \n",
            "...       ...                             ...            ...              ...   \n",
            "159995      0                     manhunt.net             11         2.845351   \n",
            "159996      0                      yupptv.com             10         3.121928   \n",
            "159997      0                    bbcmundo.com             12         2.918296   \n",
            "159998      0                   kanogames.com             13         3.238901   \n",
            "159999      0                    roadrover.cn             12         3.022055   \n",
            "\n",
            "        vc_ratio  ngram_score  mcc  unique_chars  \\\n",
            "0       0.153846    62.933827   11            23   \n",
            "1       0.062500    41.578176   16            13   \n",
            "2       0.307692    44.070511    7            13   \n",
            "3       0.160000    57.449990   10            23   \n",
            "4       0.363636    43.810817    7            13   \n",
            "...          ...          ...  ...           ...   \n",
            "159995  0.375000    54.729697    4             8   \n",
            "159996  0.250000    48.300909    6             9   \n",
            "159997  0.333333    59.604458    4             8   \n",
            "159998  0.625000    85.190965    3            10   \n",
            "159999  0.500000    63.870914    4             9   \n",
            "\n",
            "                                                 tokenize  \n",
            "0       [7, 34, 36, 34, 29, 33, 4, 29, 25, 21, 32, 17,...  \n",
            "1       [17, 22, 12, 30, 22, 34, 33, 33, 18, 12, 24, 2...  \n",
            "2       [34, 34, 23, 11, 23, 25, 26, 35, 19, 26, 12, 1...  \n",
            "3       [36, 16, 14, 6, 29, 36, 26, 19, 2, 9, 19, 9, 6...  \n",
            "4       [20, 26, 27, 16, 30, 35, 23, 19, 31, 32, 15, 2...  \n",
            "...                                                   ...  \n",
            "159995       [23, 11, 24, 18, 31, 24, 30, 37, 24, 15, 30]  \n",
            "159996           [35, 31, 26, 26, 30, 32, 37, 13, 25, 23]  \n",
            "159997   [12, 12, 13, 23, 31, 24, 14, 25, 37, 13, 25, 23]  \n",
            "159998  [21, 11, 24, 25, 17, 11, 23, 15, 29, 37, 13, 2...  \n",
            "159999   [28, 25, 11, 14, 28, 25, 32, 15, 28, 37, 13, 24]  \n",
            "\n",
            "[160000 rows x 9 columns]\n"
          ]
        }
      ]
    },
    {
      "cell_type": "code",
      "source": [
        "import tensorflow as tf\n",
        "from tensorflow.keras.preprocessing.sequence import pad_sequences\n",
        "\n",
        "# Tokens\n",
        "token_seqs = df[\"tokenize\"].tolist()\n",
        "X_tokens = pad_sequences(token_seqs, padding=\"post\", value=0)\n",
        "\n",
        "# Handcrafted features\n",
        "handcrafted_cols = [\"domain_length\", \"shannon_entropy\", \"vc_ratio\", \"ngram_score\", \"mcc\", \"unique_chars\"]\n",
        "X_features = df[handcrafted_cols].values.astype(np.float32)\n",
        "\n",
        "# Labels\n",
        "y = df[\"isDGA\"].values.astype(np.int32)"
      ],
      "metadata": {
        "id": "weofU3i8G9qG"
      },
      "execution_count": 5,
      "outputs": []
    },
    {
      "cell_type": "code",
      "source": [
        "print(X_tokens)\n",
        "print(X_features)\n",
        "print(y)"
      ],
      "metadata": {
        "colab": {
          "base_uri": "https://localhost:8080/"
        },
        "id": "JGK7bjFEKv3w",
        "outputId": "fa67eac8-d881-4d46-8f6d-c7135b1b9fdb"
      },
      "execution_count": 6,
      "outputs": [
        {
          "output_type": "stream",
          "name": "stdout",
          "text": [
            "[[ 7 34 36 ...  0  0  0]\n",
            " [17 22 12 ...  0  0  0]\n",
            " [34 34 23 ...  0  0  0]\n",
            " ...\n",
            " [12 12 13 ...  0  0  0]\n",
            " [21 11 24 ...  0  0  0]\n",
            " [28 25 11 ...  0  0  0]]\n",
            "[[3.0000000e+01 4.4402237e+00 1.5384616e-01 6.2933826e+01 1.1000000e+01\n",
            "  2.3000000e+01]\n",
            " [1.7000000e+01 3.6168747e+00 6.2500000e-02 4.1578175e+01 1.6000000e+01\n",
            "  1.3000000e+01]\n",
            " [1.7000000e+01 3.5724695e+00 3.0769232e-01 4.4070511e+01 7.0000000e+00\n",
            "  1.3000000e+01]\n",
            " ...\n",
            " [1.2000000e+01 2.9182959e+00 3.3333334e-01 5.9604458e+01 4.0000000e+00\n",
            "  8.0000000e+00]\n",
            " [1.3000000e+01 3.2389011e+00 6.2500000e-01 8.5190964e+01 3.0000000e+00\n",
            "  1.0000000e+01]\n",
            " [1.2000000e+01 3.0220551e+00 5.0000000e-01 6.3870914e+01 4.0000000e+00\n",
            "  9.0000000e+00]]\n",
            "[1 1 1 ... 0 0 0]\n"
          ]
        }
      ]
    },
    {
      "cell_type": "code",
      "source": [
        "import tensorflow as tf\n",
        "from tensorflow.keras import layers, Model\n",
        "\n",
        "def build_gru_model(vocab_size: int = 38, embedding_dim: int = 128, hidden_dim: int = 256, n_layers: int = 2, dropout_rate: float = 0.5, num_features: int = 6) -> tf.keras.Model:\n",
        "  token_input = tf.keras.Input(shape=(None,), dtype=tf.int32, name=\"token_input\")\n",
        "  feat_input  = tf.keras.Input(shape=(num_features,), dtype=tf.float32, name=\"handcrafted_features\")\n",
        "\n",
        "  x = layers.Embedding(\n",
        "    input_dim=vocab_size,\n",
        "    output_dim=embedding_dim,\n",
        "    mask_zero=True,\n",
        "    name=\"embedding\"\n",
        "  )(token_input)\n",
        "  x = layers.Dropout(dropout_rate, name=\"embed_dropout\")(x)\n",
        "\n",
        "  for i in range(n_layers):\n",
        "    return_sequences = (i < n_layers - 1)\n",
        "    x = layers.Bidirectional(\n",
        "      layers.GRU(\n",
        "        hidden_dim,\n",
        "        return_sequences=return_sequences,\n",
        "        dropout=dropout_rate,\n",
        "        name=f\"gru_layer_{i+1}\"\n",
        "      ),\n",
        "      merge_mode=\"concat\",\n",
        "      name=f\"bi_gru_{i+1}\"\n",
        "    )(x)\n",
        "\n",
        "  x = layers.Dropout(dropout_rate, name=\"gru_output_dropout\")(x)\n",
        "\n",
        "  x = layers.Concatenate(name=\"concat_features\")([x, feat_input])\n",
        "\n",
        "  x = layers.Dense(256, activation=\"relu\", name=\"dense_1\")(x)\n",
        "  x = layers.Dropout(dropout_rate, name=\"dropout_1\")(x)\n",
        "  x = layers.Dense(128, activation=\"relu\", name=\"dense_2\")(x)\n",
        "  x = layers.Dropout(dropout_rate, name=\"dropout_2\")(x)\n",
        "  logits = layers.Dense(2, name=\"logits\")(x)\n",
        "\n",
        "  model = Model(inputs=[token_input, feat_input], outputs=logits, name=\"DGA_GRU_Model\")\n",
        "  model.compile(\n",
        "    optimizer=\"adam\",\n",
        "    loss=tf.keras.losses.SparseCategoricalCrossentropy(from_logits=True),\n",
        "    metrics=[\"accuracy\"]\n",
        "  )\n",
        "  return model\n",
        "\n",
        "keras_model = build_gru_model()\n",
        "keras_model.summary()"
      ],
      "metadata": {
        "colab": {
          "base_uri": "https://localhost:8080/",
          "height": 743
        },
        "id": "qhcULMHdKxnG",
        "outputId": "ae2e4755-2373-4185-ac5e-babe6b1a057d"
      },
      "execution_count": 7,
      "outputs": [
        {
          "output_type": "display_data",
          "data": {
            "text/plain": [
              "\u001b[1mModel: \"DGA_GRU_Model\"\u001b[0m\n"
            ],
            "text/html": [
              "<pre style=\"white-space:pre;overflow-x:auto;line-height:normal;font-family:Menlo,'DejaVu Sans Mono',consolas,'Courier New',monospace\"><span style=\"font-weight: bold\">Model: \"DGA_GRU_Model\"</span>\n",
              "</pre>\n"
            ]
          },
          "metadata": {}
        },
        {
          "output_type": "display_data",
          "data": {
            "text/plain": [
              "┏━━━━━━━━━━━━━━━━━━━━━┳━━━━━━━━━━━━━━━━━━━┳━━━━━━━━━━━━┳━━━━━━━━━━━━━━━━━━━┓\n",
              "┃\u001b[1m \u001b[0m\u001b[1mLayer (type)       \u001b[0m\u001b[1m \u001b[0m┃\u001b[1m \u001b[0m\u001b[1mOutput Shape     \u001b[0m\u001b[1m \u001b[0m┃\u001b[1m \u001b[0m\u001b[1m   Param #\u001b[0m\u001b[1m \u001b[0m┃\u001b[1m \u001b[0m\u001b[1mConnected to     \u001b[0m\u001b[1m \u001b[0m┃\n",
              "┡━━━━━━━━━━━━━━━━━━━━━╇━━━━━━━━━━━━━━━━━━━╇━━━━━━━━━━━━╇━━━━━━━━━━━━━━━━━━━┩\n",
              "│ token_input         │ (\u001b[38;5;45mNone\u001b[0m, \u001b[38;5;45mNone\u001b[0m)      │          \u001b[38;5;34m0\u001b[0m │ -                 │\n",
              "│ (\u001b[38;5;33mInputLayer\u001b[0m)        │                   │            │                   │\n",
              "├─────────────────────┼───────────────────┼────────────┼───────────────────┤\n",
              "│ embedding           │ (\u001b[38;5;45mNone\u001b[0m, \u001b[38;5;45mNone\u001b[0m, \u001b[38;5;34m128\u001b[0m) │      \u001b[38;5;34m4,864\u001b[0m │ token_input[\u001b[38;5;34m0\u001b[0m][\u001b[38;5;34m0\u001b[0m] │\n",
              "│ (\u001b[38;5;33mEmbedding\u001b[0m)         │                   │            │                   │\n",
              "├─────────────────────┼───────────────────┼────────────┼───────────────────┤\n",
              "│ embed_dropout       │ (\u001b[38;5;45mNone\u001b[0m, \u001b[38;5;45mNone\u001b[0m, \u001b[38;5;34m128\u001b[0m) │          \u001b[38;5;34m0\u001b[0m │ embedding[\u001b[38;5;34m0\u001b[0m][\u001b[38;5;34m0\u001b[0m]   │\n",
              "│ (\u001b[38;5;33mDropout\u001b[0m)           │                   │            │                   │\n",
              "├─────────────────────┼───────────────────┼────────────┼───────────────────┤\n",
              "│ not_equal           │ (\u001b[38;5;45mNone\u001b[0m, \u001b[38;5;45mNone\u001b[0m)      │          \u001b[38;5;34m0\u001b[0m │ token_input[\u001b[38;5;34m0\u001b[0m][\u001b[38;5;34m0\u001b[0m] │\n",
              "│ (\u001b[38;5;33mNotEqual\u001b[0m)          │                   │            │                   │\n",
              "├─────────────────────┼───────────────────┼────────────┼───────────────────┤\n",
              "│ bi_gru_1            │ (\u001b[38;5;45mNone\u001b[0m, \u001b[38;5;45mNone\u001b[0m, \u001b[38;5;34m512\u001b[0m) │    \u001b[38;5;34m592,896\u001b[0m │ embed_dropout[\u001b[38;5;34m0\u001b[0m]… │\n",
              "│ (\u001b[38;5;33mBidirectional\u001b[0m)     │                   │            │ not_equal[\u001b[38;5;34m0\u001b[0m][\u001b[38;5;34m0\u001b[0m]   │\n",
              "├─────────────────────┼───────────────────┼────────────┼───────────────────┤\n",
              "│ bi_gru_2            │ (\u001b[38;5;45mNone\u001b[0m, \u001b[38;5;34m512\u001b[0m)       │  \u001b[38;5;34m1,182,720\u001b[0m │ bi_gru_1[\u001b[38;5;34m0\u001b[0m][\u001b[38;5;34m0\u001b[0m],   │\n",
              "│ (\u001b[38;5;33mBidirectional\u001b[0m)     │                   │            │ not_equal[\u001b[38;5;34m0\u001b[0m][\u001b[38;5;34m0\u001b[0m]   │\n",
              "├─────────────────────┼───────────────────┼────────────┼───────────────────┤\n",
              "│ gru_output_dropout  │ (\u001b[38;5;45mNone\u001b[0m, \u001b[38;5;34m512\u001b[0m)       │          \u001b[38;5;34m0\u001b[0m │ bi_gru_2[\u001b[38;5;34m0\u001b[0m][\u001b[38;5;34m0\u001b[0m]    │\n",
              "│ (\u001b[38;5;33mDropout\u001b[0m)           │                   │            │                   │\n",
              "├─────────────────────┼───────────────────┼────────────┼───────────────────┤\n",
              "│ handcrafted_featur… │ (\u001b[38;5;45mNone\u001b[0m, \u001b[38;5;34m6\u001b[0m)         │          \u001b[38;5;34m0\u001b[0m │ -                 │\n",
              "│ (\u001b[38;5;33mInputLayer\u001b[0m)        │                   │            │                   │\n",
              "├─────────────────────┼───────────────────┼────────────┼───────────────────┤\n",
              "│ concat_features     │ (\u001b[38;5;45mNone\u001b[0m, \u001b[38;5;34m518\u001b[0m)       │          \u001b[38;5;34m0\u001b[0m │ gru_output_dropo… │\n",
              "│ (\u001b[38;5;33mConcatenate\u001b[0m)       │                   │            │ handcrafted_feat… │\n",
              "├─────────────────────┼───────────────────┼────────────┼───────────────────┤\n",
              "│ dense_1 (\u001b[38;5;33mDense\u001b[0m)     │ (\u001b[38;5;45mNone\u001b[0m, \u001b[38;5;34m256\u001b[0m)       │    \u001b[38;5;34m132,864\u001b[0m │ concat_features[\u001b[38;5;34m…\u001b[0m │\n",
              "├─────────────────────┼───────────────────┼────────────┼───────────────────┤\n",
              "│ dropout_1 (\u001b[38;5;33mDropout\u001b[0m) │ (\u001b[38;5;45mNone\u001b[0m, \u001b[38;5;34m256\u001b[0m)       │          \u001b[38;5;34m0\u001b[0m │ dense_1[\u001b[38;5;34m0\u001b[0m][\u001b[38;5;34m0\u001b[0m]     │\n",
              "├─────────────────────┼───────────────────┼────────────┼───────────────────┤\n",
              "│ dense_2 (\u001b[38;5;33mDense\u001b[0m)     │ (\u001b[38;5;45mNone\u001b[0m, \u001b[38;5;34m128\u001b[0m)       │     \u001b[38;5;34m32,896\u001b[0m │ dropout_1[\u001b[38;5;34m0\u001b[0m][\u001b[38;5;34m0\u001b[0m]   │\n",
              "├─────────────────────┼───────────────────┼────────────┼───────────────────┤\n",
              "│ dropout_2 (\u001b[38;5;33mDropout\u001b[0m) │ (\u001b[38;5;45mNone\u001b[0m, \u001b[38;5;34m128\u001b[0m)       │          \u001b[38;5;34m0\u001b[0m │ dense_2[\u001b[38;5;34m0\u001b[0m][\u001b[38;5;34m0\u001b[0m]     │\n",
              "├─────────────────────┼───────────────────┼────────────┼───────────────────┤\n",
              "│ logits (\u001b[38;5;33mDense\u001b[0m)      │ (\u001b[38;5;45mNone\u001b[0m, \u001b[38;5;34m2\u001b[0m)         │        \u001b[38;5;34m258\u001b[0m │ dropout_2[\u001b[38;5;34m0\u001b[0m][\u001b[38;5;34m0\u001b[0m]   │\n",
              "└─────────────────────┴───────────────────┴────────────┴───────────────────┘\n"
            ],
            "text/html": [
              "<pre style=\"white-space:pre;overflow-x:auto;line-height:normal;font-family:Menlo,'DejaVu Sans Mono',consolas,'Courier New',monospace\">┏━━━━━━━━━━━━━━━━━━━━━┳━━━━━━━━━━━━━━━━━━━┳━━━━━━━━━━━━┳━━━━━━━━━━━━━━━━━━━┓\n",
              "┃<span style=\"font-weight: bold\"> Layer (type)        </span>┃<span style=\"font-weight: bold\"> Output Shape      </span>┃<span style=\"font-weight: bold\">    Param # </span>┃<span style=\"font-weight: bold\"> Connected to      </span>┃\n",
              "┡━━━━━━━━━━━━━━━━━━━━━╇━━━━━━━━━━━━━━━━━━━╇━━━━━━━━━━━━╇━━━━━━━━━━━━━━━━━━━┩\n",
              "│ token_input         │ (<span style=\"color: #00d7ff; text-decoration-color: #00d7ff\">None</span>, <span style=\"color: #00d7ff; text-decoration-color: #00d7ff\">None</span>)      │          <span style=\"color: #00af00; text-decoration-color: #00af00\">0</span> │ -                 │\n",
              "│ (<span style=\"color: #0087ff; text-decoration-color: #0087ff\">InputLayer</span>)        │                   │            │                   │\n",
              "├─────────────────────┼───────────────────┼────────────┼───────────────────┤\n",
              "│ embedding           │ (<span style=\"color: #00d7ff; text-decoration-color: #00d7ff\">None</span>, <span style=\"color: #00d7ff; text-decoration-color: #00d7ff\">None</span>, <span style=\"color: #00af00; text-decoration-color: #00af00\">128</span>) │      <span style=\"color: #00af00; text-decoration-color: #00af00\">4,864</span> │ token_input[<span style=\"color: #00af00; text-decoration-color: #00af00\">0</span>][<span style=\"color: #00af00; text-decoration-color: #00af00\">0</span>] │\n",
              "│ (<span style=\"color: #0087ff; text-decoration-color: #0087ff\">Embedding</span>)         │                   │            │                   │\n",
              "├─────────────────────┼───────────────────┼────────────┼───────────────────┤\n",
              "│ embed_dropout       │ (<span style=\"color: #00d7ff; text-decoration-color: #00d7ff\">None</span>, <span style=\"color: #00d7ff; text-decoration-color: #00d7ff\">None</span>, <span style=\"color: #00af00; text-decoration-color: #00af00\">128</span>) │          <span style=\"color: #00af00; text-decoration-color: #00af00\">0</span> │ embedding[<span style=\"color: #00af00; text-decoration-color: #00af00\">0</span>][<span style=\"color: #00af00; text-decoration-color: #00af00\">0</span>]   │\n",
              "│ (<span style=\"color: #0087ff; text-decoration-color: #0087ff\">Dropout</span>)           │                   │            │                   │\n",
              "├─────────────────────┼───────────────────┼────────────┼───────────────────┤\n",
              "│ not_equal           │ (<span style=\"color: #00d7ff; text-decoration-color: #00d7ff\">None</span>, <span style=\"color: #00d7ff; text-decoration-color: #00d7ff\">None</span>)      │          <span style=\"color: #00af00; text-decoration-color: #00af00\">0</span> │ token_input[<span style=\"color: #00af00; text-decoration-color: #00af00\">0</span>][<span style=\"color: #00af00; text-decoration-color: #00af00\">0</span>] │\n",
              "│ (<span style=\"color: #0087ff; text-decoration-color: #0087ff\">NotEqual</span>)          │                   │            │                   │\n",
              "├─────────────────────┼───────────────────┼────────────┼───────────────────┤\n",
              "│ bi_gru_1            │ (<span style=\"color: #00d7ff; text-decoration-color: #00d7ff\">None</span>, <span style=\"color: #00d7ff; text-decoration-color: #00d7ff\">None</span>, <span style=\"color: #00af00; text-decoration-color: #00af00\">512</span>) │    <span style=\"color: #00af00; text-decoration-color: #00af00\">592,896</span> │ embed_dropout[<span style=\"color: #00af00; text-decoration-color: #00af00\">0</span>]… │\n",
              "│ (<span style=\"color: #0087ff; text-decoration-color: #0087ff\">Bidirectional</span>)     │                   │            │ not_equal[<span style=\"color: #00af00; text-decoration-color: #00af00\">0</span>][<span style=\"color: #00af00; text-decoration-color: #00af00\">0</span>]   │\n",
              "├─────────────────────┼───────────────────┼────────────┼───────────────────┤\n",
              "│ bi_gru_2            │ (<span style=\"color: #00d7ff; text-decoration-color: #00d7ff\">None</span>, <span style=\"color: #00af00; text-decoration-color: #00af00\">512</span>)       │  <span style=\"color: #00af00; text-decoration-color: #00af00\">1,182,720</span> │ bi_gru_1[<span style=\"color: #00af00; text-decoration-color: #00af00\">0</span>][<span style=\"color: #00af00; text-decoration-color: #00af00\">0</span>],   │\n",
              "│ (<span style=\"color: #0087ff; text-decoration-color: #0087ff\">Bidirectional</span>)     │                   │            │ not_equal[<span style=\"color: #00af00; text-decoration-color: #00af00\">0</span>][<span style=\"color: #00af00; text-decoration-color: #00af00\">0</span>]   │\n",
              "├─────────────────────┼───────────────────┼────────────┼───────────────────┤\n",
              "│ gru_output_dropout  │ (<span style=\"color: #00d7ff; text-decoration-color: #00d7ff\">None</span>, <span style=\"color: #00af00; text-decoration-color: #00af00\">512</span>)       │          <span style=\"color: #00af00; text-decoration-color: #00af00\">0</span> │ bi_gru_2[<span style=\"color: #00af00; text-decoration-color: #00af00\">0</span>][<span style=\"color: #00af00; text-decoration-color: #00af00\">0</span>]    │\n",
              "│ (<span style=\"color: #0087ff; text-decoration-color: #0087ff\">Dropout</span>)           │                   │            │                   │\n",
              "├─────────────────────┼───────────────────┼────────────┼───────────────────┤\n",
              "│ handcrafted_featur… │ (<span style=\"color: #00d7ff; text-decoration-color: #00d7ff\">None</span>, <span style=\"color: #00af00; text-decoration-color: #00af00\">6</span>)         │          <span style=\"color: #00af00; text-decoration-color: #00af00\">0</span> │ -                 │\n",
              "│ (<span style=\"color: #0087ff; text-decoration-color: #0087ff\">InputLayer</span>)        │                   │            │                   │\n",
              "├─────────────────────┼───────────────────┼────────────┼───────────────────┤\n",
              "│ concat_features     │ (<span style=\"color: #00d7ff; text-decoration-color: #00d7ff\">None</span>, <span style=\"color: #00af00; text-decoration-color: #00af00\">518</span>)       │          <span style=\"color: #00af00; text-decoration-color: #00af00\">0</span> │ gru_output_dropo… │\n",
              "│ (<span style=\"color: #0087ff; text-decoration-color: #0087ff\">Concatenate</span>)       │                   │            │ handcrafted_feat… │\n",
              "├─────────────────────┼───────────────────┼────────────┼───────────────────┤\n",
              "│ dense_1 (<span style=\"color: #0087ff; text-decoration-color: #0087ff\">Dense</span>)     │ (<span style=\"color: #00d7ff; text-decoration-color: #00d7ff\">None</span>, <span style=\"color: #00af00; text-decoration-color: #00af00\">256</span>)       │    <span style=\"color: #00af00; text-decoration-color: #00af00\">132,864</span> │ concat_features[<span style=\"color: #00af00; text-decoration-color: #00af00\">…</span> │\n",
              "├─────────────────────┼───────────────────┼────────────┼───────────────────┤\n",
              "│ dropout_1 (<span style=\"color: #0087ff; text-decoration-color: #0087ff\">Dropout</span>) │ (<span style=\"color: #00d7ff; text-decoration-color: #00d7ff\">None</span>, <span style=\"color: #00af00; text-decoration-color: #00af00\">256</span>)       │          <span style=\"color: #00af00; text-decoration-color: #00af00\">0</span> │ dense_1[<span style=\"color: #00af00; text-decoration-color: #00af00\">0</span>][<span style=\"color: #00af00; text-decoration-color: #00af00\">0</span>]     │\n",
              "├─────────────────────┼───────────────────┼────────────┼───────────────────┤\n",
              "│ dense_2 (<span style=\"color: #0087ff; text-decoration-color: #0087ff\">Dense</span>)     │ (<span style=\"color: #00d7ff; text-decoration-color: #00d7ff\">None</span>, <span style=\"color: #00af00; text-decoration-color: #00af00\">128</span>)       │     <span style=\"color: #00af00; text-decoration-color: #00af00\">32,896</span> │ dropout_1[<span style=\"color: #00af00; text-decoration-color: #00af00\">0</span>][<span style=\"color: #00af00; text-decoration-color: #00af00\">0</span>]   │\n",
              "├─────────────────────┼───────────────────┼────────────┼───────────────────┤\n",
              "│ dropout_2 (<span style=\"color: #0087ff; text-decoration-color: #0087ff\">Dropout</span>) │ (<span style=\"color: #00d7ff; text-decoration-color: #00d7ff\">None</span>, <span style=\"color: #00af00; text-decoration-color: #00af00\">128</span>)       │          <span style=\"color: #00af00; text-decoration-color: #00af00\">0</span> │ dense_2[<span style=\"color: #00af00; text-decoration-color: #00af00\">0</span>][<span style=\"color: #00af00; text-decoration-color: #00af00\">0</span>]     │\n",
              "├─────────────────────┼───────────────────┼────────────┼───────────────────┤\n",
              "│ logits (<span style=\"color: #0087ff; text-decoration-color: #0087ff\">Dense</span>)      │ (<span style=\"color: #00d7ff; text-decoration-color: #00d7ff\">None</span>, <span style=\"color: #00af00; text-decoration-color: #00af00\">2</span>)         │        <span style=\"color: #00af00; text-decoration-color: #00af00\">258</span> │ dropout_2[<span style=\"color: #00af00; text-decoration-color: #00af00\">0</span>][<span style=\"color: #00af00; text-decoration-color: #00af00\">0</span>]   │\n",
              "└─────────────────────┴───────────────────┴────────────┴───────────────────┘\n",
              "</pre>\n"
            ]
          },
          "metadata": {}
        },
        {
          "output_type": "display_data",
          "data": {
            "text/plain": [
              "\u001b[1m Total params: \u001b[0m\u001b[38;5;34m1,946,498\u001b[0m (7.43 MB)\n"
            ],
            "text/html": [
              "<pre style=\"white-space:pre;overflow-x:auto;line-height:normal;font-family:Menlo,'DejaVu Sans Mono',consolas,'Courier New',monospace\"><span style=\"font-weight: bold\"> Total params: </span><span style=\"color: #00af00; text-decoration-color: #00af00\">1,946,498</span> (7.43 MB)\n",
              "</pre>\n"
            ]
          },
          "metadata": {}
        },
        {
          "output_type": "display_data",
          "data": {
            "text/plain": [
              "\u001b[1m Trainable params: \u001b[0m\u001b[38;5;34m1,946,498\u001b[0m (7.43 MB)\n"
            ],
            "text/html": [
              "<pre style=\"white-space:pre;overflow-x:auto;line-height:normal;font-family:Menlo,'DejaVu Sans Mono',consolas,'Courier New',monospace\"><span style=\"font-weight: bold\"> Trainable params: </span><span style=\"color: #00af00; text-decoration-color: #00af00\">1,946,498</span> (7.43 MB)\n",
              "</pre>\n"
            ]
          },
          "metadata": {}
        },
        {
          "output_type": "display_data",
          "data": {
            "text/plain": [
              "\u001b[1m Non-trainable params: \u001b[0m\u001b[38;5;34m0\u001b[0m (0.00 B)\n"
            ],
            "text/html": [
              "<pre style=\"white-space:pre;overflow-x:auto;line-height:normal;font-family:Menlo,'DejaVu Sans Mono',consolas,'Courier New',monospace\"><span style=\"font-weight: bold\"> Non-trainable params: </span><span style=\"color: #00af00; text-decoration-color: #00af00\">0</span> (0.00 B)\n",
              "</pre>\n"
            ]
          },
          "metadata": {}
        }
      ]
    },
    {
      "cell_type": "code",
      "source": [
        "X_tok_train, X_tok_test, X_feat_train, X_feat_test, y_train, y_test = train_test_split(X_tokens, X_features, y, test_size=0.2, random_state=42, stratify=y)\n",
        "\n",
        "batch_size = 512\n",
        "\n",
        "train_ds = tf.data.Dataset.from_tensor_slices(\n",
        "  ((X_tok_train, X_feat_train), y_train)\n",
        ").shuffle(buffer_size=len(X_tok_train)) \\\n",
        " .batch(batch_size) \\\n",
        " .prefetch(tf.data.AUTOTUNE)\n",
        "\n",
        "val_ds = tf.data.Dataset.from_tensor_slices(\n",
        "  ((X_tok_test, X_feat_test), y_test)\n",
        ").batch(batch_size) \\\n",
        " .prefetch(tf.data.AUTOTUNE)\n",
        "\n",
        "history = keras_model.fit(\n",
        "  train_ds,\n",
        "  epochs=10,\n",
        "  validation_data=val_ds\n",
        ")"
      ],
      "metadata": {
        "colab": {
          "base_uri": "https://localhost:8080/"
        },
        "id": "nD1FLBkELulv",
        "outputId": "0c52fd28-74be-4723-fa05-b151b1782485"
      },
      "execution_count": 8,
      "outputs": [
        {
          "output_type": "stream",
          "name": "stdout",
          "text": [
            "Epoch 1/10\n",
            "\u001b[1m250/250\u001b[0m \u001b[32m━━━━━━━━━━━━━━━━━━━━\u001b[0m\u001b[37m\u001b[0m \u001b[1m2473s\u001b[0m 10s/step - accuracy: 0.8565 - loss: 0.4908 - val_accuracy: 0.9717 - val_loss: 0.0628\n",
            "Epoch 2/10\n",
            "\u001b[1m250/250\u001b[0m \u001b[32m━━━━━━━━━━━━━━━━━━━━\u001b[0m\u001b[37m\u001b[0m \u001b[1m2455s\u001b[0m 10s/step - accuracy: 0.9696 - loss: 0.0758 - val_accuracy: 0.9790 - val_loss: 0.0544\n",
            "Epoch 3/10\n",
            "\u001b[1m250/250\u001b[0m \u001b[32m━━━━━━━━━━━━━━━━━━━━\u001b[0m\u001b[37m\u001b[0m \u001b[1m2458s\u001b[0m 10s/step - accuracy: 0.9749 - loss: 0.0654 - val_accuracy: 0.9834 - val_loss: 0.0421\n",
            "Epoch 4/10\n",
            "\u001b[1m250/250\u001b[0m \u001b[32m━━━━━━━━━━━━━━━━━━━━\u001b[0m\u001b[37m\u001b[0m \u001b[1m2503s\u001b[0m 10s/step - accuracy: 0.9815 - loss: 0.0500 - val_accuracy: 0.9842 - val_loss: 0.0396\n",
            "Epoch 5/10\n",
            "\u001b[1m250/250\u001b[0m \u001b[32m━━━━━━━━━━━━━━━━━━━━\u001b[0m\u001b[37m\u001b[0m \u001b[1m2461s\u001b[0m 10s/step - accuracy: 0.9822 - loss: 0.0485 - val_accuracy: 0.9880 - val_loss: 0.0352\n",
            "Epoch 6/10\n",
            "\u001b[1m250/250\u001b[0m \u001b[32m━━━━━━━━━━━━━━━━━━━━\u001b[0m\u001b[37m\u001b[0m \u001b[1m2495s\u001b[0m 10s/step - accuracy: 0.9854 - loss: 0.0401 - val_accuracy: 0.9886 - val_loss: 0.0312\n",
            "Epoch 7/10\n",
            "\u001b[1m250/250\u001b[0m \u001b[32m━━━━━━━━━━━━━━━━━━━━\u001b[0m\u001b[37m\u001b[0m \u001b[1m2458s\u001b[0m 10s/step - accuracy: 0.9874 - loss: 0.0360 - val_accuracy: 0.9911 - val_loss: 0.0250\n",
            "Epoch 8/10\n",
            "\u001b[1m250/250\u001b[0m \u001b[32m━━━━━━━━━━━━━━━━━━━━\u001b[0m\u001b[37m\u001b[0m \u001b[1m2454s\u001b[0m 10s/step - accuracy: 0.9883 - loss: 0.0341 - val_accuracy: 0.9923 - val_loss: 0.0228\n",
            "Epoch 9/10\n",
            "\u001b[1m250/250\u001b[0m \u001b[32m━━━━━━━━━━━━━━━━━━━━\u001b[0m\u001b[37m\u001b[0m \u001b[1m2456s\u001b[0m 10s/step - accuracy: 0.9897 - loss: 0.0313 - val_accuracy: 0.9913 - val_loss: 0.0251\n",
            "Epoch 10/10\n",
            "\u001b[1m250/250\u001b[0m \u001b[32m━━━━━━━━━━━━━━━━━━━━\u001b[0m\u001b[37m\u001b[0m \u001b[1m2505s\u001b[0m 10s/step - accuracy: 0.9902 - loss: 0.0295 - val_accuracy: 0.9923 - val_loss: 0.0244\n"
          ]
        }
      ]
    },
    {
      "cell_type": "code",
      "source": [
        "keras_model.save(\"model.keras\")\n",
        "keras_model.save(\"model.h5\")\n",
        "\n",
        "from google.colab import files\n",
        "files.download(\"model.h5\")\n",
        "files.download(\"model.keras\")"
      ],
      "metadata": {
        "colab": {
          "base_uri": "https://localhost:8080/",
          "height": 55
        },
        "id": "soOl1BlVqBFh",
        "outputId": "b4b89abf-2132-445f-8730-9dc73fca4d4b"
      },
      "execution_count": 9,
      "outputs": [
        {
          "output_type": "stream",
          "name": "stderr",
          "text": [
            "WARNING:absl:You are saving your model as an HDF5 file via `model.save()` or `keras.saving.save_model(model)`. This file format is considered legacy. We recommend using instead the native Keras format, e.g. `model.save('my_model.keras')` or `keras.saving.save_model(model, 'my_model.keras')`. \n"
          ]
        },
        {
          "output_type": "display_data",
          "data": {
            "text/plain": [
              "<IPython.core.display.Javascript object>"
            ],
            "application/javascript": [
              "\n",
              "    async function download(id, filename, size) {\n",
              "      if (!google.colab.kernel.accessAllowed) {\n",
              "        return;\n",
              "      }\n",
              "      const div = document.createElement('div');\n",
              "      const label = document.createElement('label');\n",
              "      label.textContent = `Downloading \"${filename}\": `;\n",
              "      div.appendChild(label);\n",
              "      const progress = document.createElement('progress');\n",
              "      progress.max = size;\n",
              "      div.appendChild(progress);\n",
              "      document.body.appendChild(div);\n",
              "\n",
              "      const buffers = [];\n",
              "      let downloaded = 0;\n",
              "\n",
              "      const channel = await google.colab.kernel.comms.open(id);\n",
              "      // Send a message to notify the kernel that we're ready.\n",
              "      channel.send({})\n",
              "\n",
              "      for await (const message of channel.messages) {\n",
              "        // Send a message to notify the kernel that we're ready.\n",
              "        channel.send({})\n",
              "        if (message.buffers) {\n",
              "          for (const buffer of message.buffers) {\n",
              "            buffers.push(buffer);\n",
              "            downloaded += buffer.byteLength;\n",
              "            progress.value = downloaded;\n",
              "          }\n",
              "        }\n",
              "      }\n",
              "      const blob = new Blob(buffers, {type: 'application/binary'});\n",
              "      const a = document.createElement('a');\n",
              "      a.href = window.URL.createObjectURL(blob);\n",
              "      a.download = filename;\n",
              "      div.appendChild(a);\n",
              "      a.click();\n",
              "      div.remove();\n",
              "    }\n",
              "  "
            ]
          },
          "metadata": {}
        },
        {
          "output_type": "display_data",
          "data": {
            "text/plain": [
              "<IPython.core.display.Javascript object>"
            ],
            "application/javascript": [
              "download(\"download_8a5fcf0a-fef0-44e8-98fa-ffa762736428\", \"model.h5\", 23440184)"
            ]
          },
          "metadata": {}
        },
        {
          "output_type": "display_data",
          "data": {
            "text/plain": [
              "<IPython.core.display.Javascript object>"
            ],
            "application/javascript": [
              "\n",
              "    async function download(id, filename, size) {\n",
              "      if (!google.colab.kernel.accessAllowed) {\n",
              "        return;\n",
              "      }\n",
              "      const div = document.createElement('div');\n",
              "      const label = document.createElement('label');\n",
              "      label.textContent = `Downloading \"${filename}\": `;\n",
              "      div.appendChild(label);\n",
              "      const progress = document.createElement('progress');\n",
              "      progress.max = size;\n",
              "      div.appendChild(progress);\n",
              "      document.body.appendChild(div);\n",
              "\n",
              "      const buffers = [];\n",
              "      let downloaded = 0;\n",
              "\n",
              "      const channel = await google.colab.kernel.comms.open(id);\n",
              "      // Send a message to notify the kernel that we're ready.\n",
              "      channel.send({})\n",
              "\n",
              "      for await (const message of channel.messages) {\n",
              "        // Send a message to notify the kernel that we're ready.\n",
              "        channel.send({})\n",
              "        if (message.buffers) {\n",
              "          for (const buffer of message.buffers) {\n",
              "            buffers.push(buffer);\n",
              "            downloaded += buffer.byteLength;\n",
              "            progress.value = downloaded;\n",
              "          }\n",
              "        }\n",
              "      }\n",
              "      const blob = new Blob(buffers, {type: 'application/binary'});\n",
              "      const a = document.createElement('a');\n",
              "      a.href = window.URL.createObjectURL(blob);\n",
              "      a.download = filename;\n",
              "      div.appendChild(a);\n",
              "      a.click();\n",
              "      div.remove();\n",
              "    }\n",
              "  "
            ]
          },
          "metadata": {}
        },
        {
          "output_type": "display_data",
          "data": {
            "text/plain": [
              "<IPython.core.display.Javascript object>"
            ],
            "application/javascript": [
              "download(\"download_e06ca9a7-c9d7-443f-a260-31ee12ffa135\", \"model.keras\", 23443379)"
            ]
          },
          "metadata": {}
        }
      ]
    },
    {
      "cell_type": "code",
      "source": [
        "test_ds = val_ds\n",
        "logits = keras_model.predict(test_ds)\n",
        "\n",
        "preds = np.argmax(logits, axis=1)\n",
        "\n",
        "y_true = np.concatenate([\n",
        "  y_batch.numpy()\n",
        "  for (_, y_batch) in test_ds\n",
        "], axis=0)\n",
        "\n",
        "correct = int((preds == y_true).sum())\n",
        "total   = len(y_true)\n",
        "print(f\"{correct} / {total} correct\")\n",
        "\n",
        "cnt_targets = Counter(y_true)\n",
        "cnt_preds   = Counter(preds)\n",
        "print(\"True label counts:\", cnt_targets)\n",
        "print(\"Predicted counts :\", cnt_preds)\n",
        "\n",
        "print(classification_report(\n",
        "  y_true, preds,\n",
        "  target_names=[\"Non-DGA\", \"DGA\"]\n",
        "))\n",
        "\n",
        "cm = confusion_matrix(y_true, preds)\n",
        "plt.figure(figsize=(6,5))\n",
        "sns.heatmap(\n",
        "  cm, annot=True, fmt=\"d\", cmap=\"Blues\",\n",
        "  xticklabels=[\"Non-DGA\",\"DGA\"],\n",
        "  yticklabels=[\"Non-DGA\",\"DGA\"]\n",
        ")\n",
        "plt.xlabel(\"Predicted\")\n",
        "plt.ylabel(\"Actual\")\n",
        "plt.title(\"Confusion Matrix\")\n",
        "plt.show()"
      ],
      "metadata": {
        "colab": {
          "base_uri": "https://localhost:8080/",
          "height": 719
        },
        "id": "3vt4VX_JOzGi",
        "outputId": "f5e141b1-6293-4309-f138-fbd2cebc7a6b"
      },
      "execution_count": 10,
      "outputs": [
        {
          "output_type": "stream",
          "name": "stdout",
          "text": [
            "\u001b[1m63/63\u001b[0m \u001b[32m━━━━━━━━━━━━━━━━━━━━\u001b[0m\u001b[37m\u001b[0m \u001b[1m172s\u001b[0m 3s/step\n",
            "31754 / 32000 correct\n",
            "True label counts: Counter({np.int32(0): 16000, np.int32(1): 16000})\n",
            "Predicted counts : Counter({np.int64(1): 16066, np.int64(0): 15934})\n",
            "              precision    recall  f1-score   support\n",
            "\n",
            "     Non-DGA       0.99      0.99      0.99     16000\n",
            "         DGA       0.99      0.99      0.99     16000\n",
            "\n",
            "    accuracy                           0.99     32000\n",
            "   macro avg       0.99      0.99      0.99     32000\n",
            "weighted avg       0.99      0.99      0.99     32000\n",
            "\n"
          ]
        },
        {
          "output_type": "display_data",
          "data": {
            "text/plain": [
              "<Figure size 600x500 with 2 Axes>"
            ],
            "image/png": "[encoded data removed]"
          },
          "metadata": {}
        }
      ]
    }
  ]
}